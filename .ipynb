load the data set
from sklearn.datasets import load_iris
import pandas as pd

# Load Iris dataset
iris = load_iris()
iris_df = pd.DataFrame(data=iris.data, columns=iris.feature_names)
iris_df['species'] = iris.target

# Map species to their names
iris_df['species'] = iris_df['species'].map({0: 'setosa', 1: 'versicolor', 2: 'virginica'})

inspect data 
# Display first few rows
print(iris_df.head())

# Check structure and missing values
print(iris_df.info())
print(iris_df.isnull().sum())

clean data 
# Fill missing values
iris_df.fillna(iris_df.mean(), inplace=True)

# Drop rows with missing values
# iris_df.dropna(inplace=True)

compute statistics
print(iris_df.describe())

Grouping 
# Mean of sepal length by species
grouped = iris_df.groupby('species')['sepal length (cm)'].mean()
print(grouped)

Imports
import matplotlib.pyplot as plt
import seaborn as sns

line chart
# Example: Visualizing petal length trend (not time-series, but for illustration)
iris_df.sort_values('petal length (cm)').reset_index().plot(
    y='petal length (cm)', use_index=True, title='Petal Length Trend', legend=False
)
plt.xlabel('Index')
plt.ylabel('Petal Length (cm)')
plt.show()

Br chart grouped.plot(kind='bar', title='Average Sepal Length by Species')
plt.xlabel('Species')
plt.ylabel('Average Sepal Length (cm)')
plt.show()

Histogram
sns.histplot(iris_df['sepal width (cm)'], kde=True, bins=10, color='blue')
plt.title('Distribution of Sepal Width')
plt.xlabel('Sepal Width (cm)')
plt.ylabel('Frequency')
plt.show()

scater plot
sns.scatterplot(
    data=iris_df, x='sepal length (cm)', y='petal length (cm)', hue='species', style='species'
)
plt.title('Sepal Length vs. Petal Length')
plt.xlabel('Sepal Length (cm)')
plt.ylabel('Petal Length (cm)')
plt.legend(title='Species')
plt.show()

Error handling 
try:
    # Load CSV (if using external dataset)
    data = pd.read_csv('path_to_file.csv')
except FileNotFoundError:
    print("Error: The file was not found.")
except pd.errors.EmptyDataError:
    print("Error: The file is empty.")
except Exception as e:
    print(f"An unexpected error occurred: {e}")

